{
  "nbformat": 4,
  "nbformat_minor": 0,
  "metadata": {
    "colab": {
      "provenance": [],
      "include_colab_link": true
    },
    "kernelspec": {
      "name": "python3",
      "display_name": "Python 3"
    },
    "language_info": {
      "name": "python"
    }
  },
  "cells": [
    {
      "cell_type": "markdown",
      "metadata": {
        "id": "view-in-github",
        "colab_type": "text"
      },
      "source": [
        "<a href=\"https://colab.research.google.com/github/kiranmahesh4033/SOC-PROJECTS/blob/main/BBC_Headlines.ipynb\" target=\"_parent\"><img src=\"https://colab.research.google.com/assets/colab-badge.svg\" alt=\"Open In Colab\"/></a>"
      ]
    },
    {
      "cell_type": "markdown",
      "source": [
        "#Scrapping the HeadLines of Articles  from BBC.com using BeautifulSoup"
      ],
      "metadata": {
        "id": "aepM6AZnYKZP"
      }
    },
    {
      "cell_type": "code",
      "execution_count": null,
      "metadata": {
        "id": "jh2tCFWL3hqV"
      },
      "outputs": [],
      "source": [
        "#importing the required libraries\n",
        "import requests\n",
        "from bs4 import BeautifulSoup\n",
        "import pandas as pd\n",
        "from datetime import datetime"
      ]
    },
    {
      "cell_type": "code",
      "source": [
        "# URL of the news website you want to scrape\n",
        "url = 'https://www.bbc.com/news'"
      ],
      "metadata": {
        "id": "sdSkkI5Z3qiy"
      },
      "execution_count": null,
      "outputs": []
    },
    {
      "cell_type": "code",
      "source": [
        "# Send a GET request to the URL\n",
        "response = requests.get(url)"
      ],
      "metadata": {
        "id": "sFuqouZy3wWK"
      },
      "execution_count": null,
      "outputs": []
    },
    {
      "cell_type": "code",
      "source": [
        "# Parse the HTML content of the webpage\n",
        "soup = BeautifulSoup(response.text, 'html.parser')\n",
        "print(soup)"
      ],
      "metadata": {
        "id": "Sfk5IG6d3ze5"
      },
      "execution_count": null,
      "outputs": []
    },
    {
      "cell_type": "code",
      "source": [
        "#Title\n",
        "title=soup.find('title')\n",
        "print(title)"
      ],
      "metadata": {
        "colab": {
          "base_uri": "https://localhost:8080/"
        },
        "id": "NKiiO5W0ZDMK",
        "outputId": "9dda4e20-f5e7-4938-e234-ca73f43863df"
      },
      "execution_count": null,
      "outputs": [
        {
          "output_type": "stream",
          "name": "stdout",
          "text": [
            "<title>Home - BBC News</title>\n"
          ]
        }
      ]
    },
    {
      "cell_type": "code",
      "source": [
        "# Find the current date\n",
        "current_date = datetime.now().strftime('%Y-%m-%d')"
      ],
      "metadata": {
        "id": "b2g6Vwwv34HC"
      },
      "execution_count": null,
      "outputs": []
    },
    {
      "cell_type": "code",
      "source": [
        "# Find all the headline elements on the webpage\n",
        "headlines = soup.find_all('h2')  # You might need to adjust the tag based on the structure of the website"
      ],
      "metadata": {
        "id": "WQciUj3-3-oF"
      },
      "execution_count": null,
      "outputs": []
    },
    {
      "cell_type": "code",
      "source": [
        "# Extract the text from each headline and store it in a list\n",
        "headline_texts = [headline.text.strip() for headline in headlines[1:12]]\n",
        "print(headline_texts)"
      ],
      "metadata": {
        "id": "lh0GVEp84D3J",
        "colab": {
          "base_uri": "https://localhost:8080/"
        },
        "outputId": "21e24f47-0023-4cba-f949-9c512830c103"
      },
      "execution_count": null,
      "outputs": [
        {
          "output_type": "stream",
          "name": "stdout",
          "text": [
            "['Trident missile test fails for second time in a row', \"'Grandfather satellite' due to fall to Earth\", 'Handwritten Hotel California lyrics at heart of trial', \"FBI source accused of Biden lies 'linked to spies'\", 'Trident missile test fails for second time in a row', 'Parenting YouTuber Ruby Franke jailed for child abuse', 'Two charged with murder for Super Bowl parade shooting', 'Beef trade risks key Brazil ecosystem - campaigners', \"'Grandfather satellite' due to fall to Earth\", 'Rust armourer set to go on trial in New Mexico', 'Woolworths boss quits after TV interview']\n"
          ]
        }
      ]
    },
    {
      "cell_type": "code",
      "source": [
        "# Create a DataFrame with the headlines and date\n",
        "df = pd.DataFrame({'Date': [current_date] * len(headline_texts), 'BBC News-Headlines': headline_texts})\n",
        "print(df)"
      ],
      "metadata": {
        "id": "fv3qPUVd4Hgc"
      },
      "execution_count": null,
      "outputs": []
    },
    {
      "cell_type": "code",
      "source": [
        "# Save the DataFrame to a CSV file\n",
        "df.to_csv('news_headlines.csv', index=False)"
      ],
      "metadata": {
        "id": "CXRah04k4Qy_"
      },
      "execution_count": null,
      "outputs": []
    },
    {
      "cell_type": "code",
      "source": [
        "print(\"Headlines saved to 'news_headlines.csv'\")\n",
        "print(\"Date:\", current_date)"
      ],
      "metadata": {
        "id": "sNGhqMPM4Smb",
        "outputId": "6b6c815f-151f-457a-ce03-3e228a2771a3",
        "colab": {
          "base_uri": "https://localhost:8080/"
        }
      },
      "execution_count": null,
      "outputs": [
        {
          "output_type": "stream",
          "name": "stdout",
          "text": [
            "Headlines saved to 'news_headlines.csv'\n",
            "Date: 2024-02-21\n"
          ]
        }
      ]
    }
  ]
}