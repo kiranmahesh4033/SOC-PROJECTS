{
  "nbformat": 4,
  "nbformat_minor": 0,
  "metadata": {
    "colab": {
      "provenance": [],
      "authorship_tag": "ABX9TyOtXID87mPE+8/sYvkgZf2s",
      "include_colab_link": true
    },
    "kernelspec": {
      "name": "python3",
      "display_name": "Python 3"
    },
    "language_info": {
      "name": "python"
    }
  },
  "cells": [
    {
      "cell_type": "markdown",
      "metadata": {
        "id": "view-in-github",
        "colab_type": "text"
      },
      "source": [
        "<a href=\"https://colab.research.google.com/github/kiranmahesh4033/SOC-PROJECTS/blob/main/THEHINDU_with_DATE.ipynb\" target=\"_parent\"><img src=\"https://colab.research.google.com/assets/colab-badge.svg\" alt=\"Open In Colab\"/></a>"
      ]
    },
    {
      "cell_type": "code",
      "execution_count": null,
      "metadata": {
        "id": "yyE9xzIkuQrS"
      },
      "outputs": [],
      "source": [
        "from bs4 import BeautifulSoup\n",
        "import requests"
      ]
    },
    {
      "cell_type": "code",
      "source": [
        "import requests\n",
        "from bs4 import BeautifulSoup\n",
        "import pandas as pd\n",
        "from datetime import datetime\n",
        "\n",
        "# URL of the news website you want to scrape\n",
        "url = 'https://www.bbc.com/'\n",
        "\n",
        "# Send a GET request to the URL\n",
        "response = requests.get(url)\n",
        "\n",
        "# Parse the HTML content of the webpage\n",
        "soup = BeautifulSoup(response.text, 'html.parser')\n",
        "\n",
        "# Find the current date\n",
        "current_date = datetime.now().strftime('%Y-%m-%d')\n",
        "\n",
        "# Find all the headline elements on the webpage\n",
        "headlines = soup.find_all('h3')  # You might need to adjust the tag based on the structure of the website\n",
        "print(headlines)\n",
        "# Extract the text from each headline and store it in a list\n",
        "headline_texts = [headline.text.strip() for headline in headlines]\n",
        "\n",
        "# Create a DataFrame with the headlines and date\n",
        "df = pd.DataFrame({'Date': [current_date] * len(headline_texts), 'Headline': headline_texts})\n",
        "\n",
        "# Save the DataFrame to a CSV file\n",
        "df.to_csv('BBC_Headlines.csv', index=False)\n",
        "\n",
        "print(\"Headlines saved to 'news_headlines.csv'\")\n",
        "print(\"Date:\",current_date)"
      ],
      "metadata": {
        "colab": {
          "base_uri": "https://localhost:8080/"
        },
        "id": "Vr8Yfx86HFrd",
        "outputId": "f45c06cb-e1ca-488f-f861-1be1520f4b15"
      },
      "execution_count": null,
      "outputs": [
        {
          "output_type": "stream",
          "name": "stdout",
          "text": [
            "[]\n",
            "Headlines saved to 'news_headlines.csv'\n",
            "Date: 2024-02-21\n"
          ]
        }
      ]
    }
  ]
}