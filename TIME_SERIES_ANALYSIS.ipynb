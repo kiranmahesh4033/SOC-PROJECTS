{
  "nbformat": 4,
  "nbformat_minor": 0,
  "metadata": {
    "colab": {
      "provenance": [],
      "include_colab_link": true
    },
    "kernelspec": {
      "name": "python3",
      "display_name": "Python 3"
    },
    "language_info": {
      "name": "python"
    }
  },
  "cells": [
    {
      "cell_type": "markdown",
      "metadata": {
        "id": "view-in-github",
        "colab_type": "text"
      },
      "source": [
        "<a href=\"https://colab.research.google.com/github/kiranmahesh4033/SOC-PROJECTS/blob/main/TIME_SERIES_ANALYSIS.ipynb\" target=\"_parent\"><img src=\"https://colab.research.google.com/assets/colab-badge.svg\" alt=\"Open In Colab\"/></a>"
      ]
    },
    {
      "cell_type": "code",
      "execution_count": null,
      "metadata": {
        "id": "N1H3_-zFOWBX"
      },
      "outputs": [],
      "source": [
        "import pandas as pd\n",
        "import numpy as np\n",
        "import matplotlib.pyplot as plt\n",
        "\n",
        "\n",
        "# Generate sample data for electricity consumption\n",
        "a=pd.read_csv('/content/electricitybilldataset.csv')\n",
        "print(a)\n",
        "\n",
        "np.random.seed(0)\n",
        "dates = pd.date_range(start='2024-01-01', end='2024-01-31', freq='D')\n",
        "consumption = np.random.normal(loc=50, scale=10, size=len(dates))\n",
        "\n",
        "# Create a pandas DataFrame\n",
        "electricity_df = pd.DataFrame({'Date': dates, 'Consumption': consumption})\n",
        "electricity_df.set_index('Date', inplace=True)\n",
        "\n",
        "# Plot the data\n",
        "plt.figure(figsize=(10, 6))\n",
        "electricity_df['Consumption'].plot()\n",
        "plt.title('Electricity Consumption in January 2024')\n",
        "plt.xlabel('Date')\n",
        "plt.ylabel('Consumption')\n",
        "plt.grid(True)\n",
        "plt.show()\n"
      ]
    },
    {
      "cell_type": "code",
      "source": [
        "# Calculate rolling mean and rolling standard deviation\n",
        "rolling_mean = electricity_df['Consumption'].rolling(window=7).mean()\n",
        "print(rolling_mean)\n",
        "monthly_mean=electricity_df.resample('M').mean()\n",
        "print(monthly_mean)\n",
        "#rolling_std = electricity_df['Consumption'].rolling(window=7).std()\n",
        "\n",
        "# Plot the original data along with rolling mean and rolling standard deviation\n",
        "#plt.figure(figsize=(10, 6))\n",
        "#plt.plot(electricity_df['Consumption'], label='Original Data')\n",
        "#plt.plot(rolling_mean, label='Rolling Mean (window=7)', color='red')\n",
        "#plt.plot(rolling_std, label='Rolling Std (window=7)', color='green')\n",
        "#plt.title('Electricity Consumption with Rolling Mean and Standard Deviation')\n",
        "#plt.xlabel('Date')\n",
        "#plt.ylabel('Consumption')\n",
        "#plt.legend()\n",
        "#plt.grid(True)\n",
        "#plt.show()\n"
      ],
      "metadata": {
        "id": "-o2MMO8kOc8G"
      },
      "execution_count": null,
      "outputs": []
    }
  ]
}